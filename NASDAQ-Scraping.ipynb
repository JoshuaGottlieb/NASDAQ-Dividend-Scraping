{
 "cells": [
  {
   "cell_type": "code",
   "execution_count": 1,
   "id": "aaf75c98",
   "metadata": {},
   "outputs": [
    {
     "name": "stderr",
     "output_type": "stream",
     "text": [
      "/usr/lib/python3/dist-packages/requests/__init__.py:89: RequestsDependencyWarning: urllib3 (1.26.15) or chardet (3.0.4) doesn't match a supported version!\n",
      "  warnings.warn(\"urllib3 ({}) or chardet ({}) doesn't match a supported \"\n"
     ]
    }
   ],
   "source": [
    "import numpy as np\n",
    "import pandas as pd\n",
    "import requests\n",
    "from bs4 import BeautifulSoup\n",
    "from selenium import webdriver\n",
    "from selenium.webdriver.common.keys import Keys\n",
    "import time\n",
    "import re"
   ]
  },
  {
   "cell_type": "code",
   "execution_count": 2,
   "id": "8f44050d",
   "metadata": {},
   "outputs": [],
   "source": [
    "url = \"https://www.nasdaq.com/market-activity/stocks/mcd/dividend-history\""
   ]
  },
  {
   "cell_type": "code",
   "execution_count": 5,
   "id": "624641d0",
   "metadata": {},
   "outputs": [
    {
     "name": "stderr",
     "output_type": "stream",
     "text": [
      "/tmp/ipykernel_1833/52314447.py:2: DeprecationWarning: executable_path has been deprecated, please pass in a Service object\n",
      "  driver = webdriver.Chrome('./chromedriver')\n"
     ]
    }
   ],
   "source": [
    "# initiating the webdriver. Parameter includes the path of the webdriver.\n",
    "driver = webdriver.Chrome('./chromedriver') \n",
    "driver.get(url) \n",
    "  \n",
    "# this is just to ensure that the page is loaded\n",
    "time.sleep(5) \n",
    "  \n",
    "html = driver.page_source\n",
    "  \n",
    "# this renders the JS code and stores all\n",
    "# of the information in static HTML code.\n",
    "  \n",
    "# Now, we could simply apply bs4 to html variable\n",
    "soup = BeautifulSoup(html, \"html.parser\")"
   ]
  },
  {
   "cell_type": "code",
   "execution_count": 9,
   "id": "9065f487",
   "metadata": {},
   "outputs": [
    {
     "data": {
      "text/plain": [
       "<span class=\"dividend-history__summary-item__value\"><span> </span>06/02/2023</span>"
      ]
     },
     "execution_count": 9,
     "metadata": {},
     "output_type": "execute_result"
    }
   ],
   "source": [
    "soup.find('span', class_='dividend-history__summary-item__value')"
   ]
  },
  {
   "cell_type": "code",
   "execution_count": 28,
   "id": "feb6e1d4",
   "metadata": {},
   "outputs": [],
   "source": [
    "all_spans = soup.find_all('span')"
   ]
  },
  {
   "cell_type": "code",
   "execution_count": 52,
   "id": "b69f24e6",
   "metadata": {},
   "outputs": [],
   "source": [
    "annual_dividend_str = [x for x in all_spans\n",
    "                   if x.has_attr('class')\n",
    "                   and x['class'][0] == 'dividend-history__summary-item__value'\n",
    "                   and '$' in x.text][0].text"
   ]
  },
  {
   "cell_type": "code",
   "execution_count": 59,
   "id": "0ebe7aa6",
   "metadata": {},
   "outputs": [],
   "source": [
    "annual_dividend = float(re.search(r'\\$(\\d+\\.\\d{2})',annual_dividend_str)[1])"
   ]
  },
  {
   "cell_type": "code",
   "execution_count": null,
   "id": "7f8fe286",
   "metadata": {},
   "outputs": [],
   "source": []
  }
 ],
 "metadata": {
  "kernelspec": {
   "display_name": "Python 3 (ipykernel)",
   "language": "python",
   "name": "python3"
  },
  "language_info": {
   "codemirror_mode": {
    "name": "ipython",
    "version": 3
   },
   "file_extension": ".py",
   "mimetype": "text/x-python",
   "name": "python",
   "nbconvert_exporter": "python",
   "pygments_lexer": "ipython3",
   "version": "3.8.10"
  }
 },
 "nbformat": 4,
 "nbformat_minor": 5
}
