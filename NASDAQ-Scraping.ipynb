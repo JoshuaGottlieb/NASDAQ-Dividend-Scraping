{
 "cells": [
  {
   "cell_type": "code",
   "execution_count": 62,
   "id": "aaf75c98",
   "metadata": {},
   "outputs": [],
   "source": [
    "import numpy as np\n",
    "import pandas as pd\n",
    "import requests\n",
    "from api_keys import iex_key, fmp_key\n",
    "import time\n",
    "import re"
   ]
  },
  {
   "cell_type": "code",
   "execution_count": 63,
   "id": "9ea300c2",
   "metadata": {},
   "outputs": [],
   "source": [
    "def get_annual_dividend(stock_symbol):\n",
    "    # Make request to fmp API.\n",
    "    fmp_base_url = 'https://fmpcloud.io/api/v3/profile/'\n",
    "    params = {'apikey': fmp_key}\n",
    "    req = requests.get(fmp_base_url + stock_symbol, params = params)\n",
    "    div_list = req.json()\n",
    "    \n",
    "    # If API request returns and empty JSON, return -1. Else, return the lastDiv value of the first result.\n",
    "    if not div_list:\n",
    "        return -1.00\n",
    "    else:\n",
    "        return float(div_list[0]['lastDiv'])"
   ]
  },
  {
   "cell_type": "code",
   "execution_count": 64,
   "id": "e6773b2b",
   "metadata": {},
   "outputs": [],
   "source": [
    "def populate_annual_dividends(df):\n",
    "    # Get a list of all stock symbols.\n",
    "    symbols = df.symbol.values.tolist()\n",
    "    \n",
    "    annual_dividends = []\n",
    "    \n",
    "    # Loop through symbols to obtain dividend data, sleeping to respect API call limits.\n",
    "    for ix, symb in enumerate(symbols):\n",
    "        if ix % 300 == 0 and ix != 0:\n",
    "            time.sleep(65)\n",
    "            \n",
    "        annual_dividends.append(get_annual_dividend(symb))\n",
    "    \n",
    "    return annual_dividends"
   ]
  },
  {
   "cell_type": "code",
   "execution_count": 65,
   "id": "5a5f951f",
   "metadata": {},
   "outputs": [],
   "source": [
    "def get_symbols_and_dividends():\n",
    "    # Grab symbols list using iex key.\n",
    "    # Split by formatting and select only the column containing stock symbols and convert to Pandas DataFrame.\n",
    "    iex_base_url = 'https://api.iex.cloud/v1/tops/last'\n",
    "    params = {'format': 'csv', 'token': iex_key}\n",
    "    symbol_csv = requests.get(iex_base_url, params = params).text\n",
    "    symbol_csv_list = symbol_csv.split('\\r\\n')\n",
    "    df = pd.DataFrame([x.split(',')[0] for x in symbol_csv_list][1:], columns = ['symbol'])\n",
    "    \n",
    "    # Get dividend values.\n",
    "    annual_dividends = populate_annual_dividends(df)\n",
    "    \n",
    "    # Turn into DataFrame and merge with symbols.\n",
    "    dividends_df = pd.DataFrame(annual_dividends, columns = 'lastDiv')\n",
    "    merged_df = pd.concat([df, dividends_df], axis = 1)\n",
    "    \n",
    "    return merged_df"
   ]
  },
  {
   "cell_type": "code",
   "execution_count": 43,
   "id": "bd84e383",
   "metadata": {},
   "outputs": [],
   "source": [
    "df = get_symbols_and_dividends()\n",
    "pd.to_csv(df, 'dividends.csv')"
   ]
  }
 ],
 "metadata": {
  "kernelspec": {
   "display_name": "Python 3 (ipykernel)",
   "language": "python",
   "name": "python3"
  },
  "language_info": {
   "codemirror_mode": {
    "name": "ipython",
    "version": 3
   },
   "file_extension": ".py",
   "mimetype": "text/x-python",
   "name": "python",
   "nbconvert_exporter": "python",
   "pygments_lexer": "ipython3",
   "version": "3.8.10"
  }
 },
 "nbformat": 4,
 "nbformat_minor": 5
}
